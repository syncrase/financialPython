{
 "cells": [
  {
   "cell_type": "code",
   "execution_count": 2,
   "metadata": {
    "collapsed": true
   },
   "outputs": [],
   "source": [
    "# https://investpy.readthedocs.io/_info/introduction.html\n",
    "#Import Libraries\n",
    "import investpy\n",
    "from datetime import datetime\n"
   ]
  },
  {
   "cell_type": "markdown",
   "source": [
    "# get_stock_historical_data"
   ],
   "metadata": {
    "collapsed": false,
    "pycharm": {
     "name": "#%% md\n"
    }
   }
  },
  {
   "cell_type": "code",
   "execution_count": 3,
   "outputs": [
    {
     "data": {
      "text/plain": "              Open    High     Low   Close     Volume Currency\nDate                                                          \n2021-01-04  133.52  133.61  126.76  129.41  143302000      USD\n2021-01-05  128.89  131.74  128.43  131.01   97665000      USD\n2021-01-06  127.72  131.05  126.38  126.60  155088000      USD\n2021-01-07  128.36  131.63  127.86  130.92  109578000      USD\n2021-01-08  132.43  132.63  130.23  132.05  105158000      USD\n...            ...     ...     ...     ...        ...      ...\n2022-02-14  167.37  169.58  166.56  168.88   85988000      USD\n2022-02-15  170.97  172.95  170.25  172.79   62468000      USD\n2022-02-16  171.85  173.34  170.05  172.55   58824000      USD\n2022-02-17  171.03  171.91  168.47  168.88   69249000      USD\n2022-02-18  169.82  170.54  166.19  167.30   82773000      USD\n\n[286 rows x 6 columns]",
      "text/html": "<div>\n<style scoped>\n    .dataframe tbody tr th:only-of-type {\n        vertical-align: middle;\n    }\n\n    .dataframe tbody tr th {\n        vertical-align: top;\n    }\n\n    .dataframe thead th {\n        text-align: right;\n    }\n</style>\n<table border=\"1\" class=\"dataframe\">\n  <thead>\n    <tr style=\"text-align: right;\">\n      <th></th>\n      <th>Open</th>\n      <th>High</th>\n      <th>Low</th>\n      <th>Close</th>\n      <th>Volume</th>\n      <th>Currency</th>\n    </tr>\n    <tr>\n      <th>Date</th>\n      <th></th>\n      <th></th>\n      <th></th>\n      <th></th>\n      <th></th>\n      <th></th>\n    </tr>\n  </thead>\n  <tbody>\n    <tr>\n      <th>2021-01-04</th>\n      <td>133.52</td>\n      <td>133.61</td>\n      <td>126.76</td>\n      <td>129.41</td>\n      <td>143302000</td>\n      <td>USD</td>\n    </tr>\n    <tr>\n      <th>2021-01-05</th>\n      <td>128.89</td>\n      <td>131.74</td>\n      <td>128.43</td>\n      <td>131.01</td>\n      <td>97665000</td>\n      <td>USD</td>\n    </tr>\n    <tr>\n      <th>2021-01-06</th>\n      <td>127.72</td>\n      <td>131.05</td>\n      <td>126.38</td>\n      <td>126.60</td>\n      <td>155088000</td>\n      <td>USD</td>\n    </tr>\n    <tr>\n      <th>2021-01-07</th>\n      <td>128.36</td>\n      <td>131.63</td>\n      <td>127.86</td>\n      <td>130.92</td>\n      <td>109578000</td>\n      <td>USD</td>\n    </tr>\n    <tr>\n      <th>2021-01-08</th>\n      <td>132.43</td>\n      <td>132.63</td>\n      <td>130.23</td>\n      <td>132.05</td>\n      <td>105158000</td>\n      <td>USD</td>\n    </tr>\n    <tr>\n      <th>...</th>\n      <td>...</td>\n      <td>...</td>\n      <td>...</td>\n      <td>...</td>\n      <td>...</td>\n      <td>...</td>\n    </tr>\n    <tr>\n      <th>2022-02-14</th>\n      <td>167.37</td>\n      <td>169.58</td>\n      <td>166.56</td>\n      <td>168.88</td>\n      <td>85988000</td>\n      <td>USD</td>\n    </tr>\n    <tr>\n      <th>2022-02-15</th>\n      <td>170.97</td>\n      <td>172.95</td>\n      <td>170.25</td>\n      <td>172.79</td>\n      <td>62468000</td>\n      <td>USD</td>\n    </tr>\n    <tr>\n      <th>2022-02-16</th>\n      <td>171.85</td>\n      <td>173.34</td>\n      <td>170.05</td>\n      <td>172.55</td>\n      <td>58824000</td>\n      <td>USD</td>\n    </tr>\n    <tr>\n      <th>2022-02-17</th>\n      <td>171.03</td>\n      <td>171.91</td>\n      <td>168.47</td>\n      <td>168.88</td>\n      <td>69249000</td>\n      <td>USD</td>\n    </tr>\n    <tr>\n      <th>2022-02-18</th>\n      <td>169.82</td>\n      <td>170.54</td>\n      <td>166.19</td>\n      <td>167.30</td>\n      <td>82773000</td>\n      <td>USD</td>\n    </tr>\n  </tbody>\n</table>\n<p>286 rows × 6 columns</p>\n</div>"
     },
     "execution_count": 3,
     "metadata": {},
     "output_type": "execute_result"
    }
   ],
   "source": [
    "\n",
    "# Define a start date and End Date  dd/mm/YYYY\n",
    "start = '01/01/2021'#setting today date as End Date\n",
    "end = datetime.today().strftime('%d/%m/%Y')\n",
    "\n",
    "## Read Stock Price Data (Eg Apple Stock Price)\n",
    "apple_stock_price = investpy.get_stock_historical_data(stock='AAPL',country='United States',from_date=start,to_date=end)\n",
    "\n",
    "apple_stock_price"
   ],
   "metadata": {
    "collapsed": false,
    "pycharm": {
     "name": "#%%\n"
    }
   }
  },
  {
   "cell_type": "markdown",
   "source": [
    "# get_stocks_overview"
   ],
   "metadata": {
    "collapsed": false
   }
  },
  {
   "cell_type": "code",
   "execution_count": 4,
   "outputs": [
    {
     "data": {
      "text/plain": "           country                 name symbol    last    high     low  \\\n0    united states               Boeing     BA  209.03  214.73  208.60   \n1    united states       General Motors     GM   48.60   49.21   47.92   \n2    united states              Chevron    CVX  133.42  133.91  132.05   \n3    united states            Citigroup      C   64.14   64.97   63.70   \n4    united states      Bank of America    BAC   45.96   46.53   45.72   \n..             ...                  ...    ...     ...     ...     ...   \n995  united states                Fonar   FONR   17.11   17.50   17.05   \n996  united states   Forward Industries   FORD    1.71    1.74    1.65   \n997  united states           FormFactor   FORM   42.02   43.07   41.92   \n998  united states            Forrester   FORR   52.79   53.40   52.00   \n999  united states  Formula Systems ADR  FORTY  111.25  113.49  110.21   \n\n     change change_percentage  turnover currency  \n0     -4.55            -2.13%   6920000      USD  \n1     -0.22            -0.45%  16020000      USD  \n2     -0.19            -0.14%  10590000      USD  \n3     -0.57            -0.88%  17900000      USD  \n4     -0.11            -0.24%  37680000      USD  \n..      ...               ...       ...      ...  \n995   -0.32            -1.84%     46710      USD  \n996  +0.010            +0.59%     27610      USD  \n997   -0.73            -1.71%    283590      USD  \n998   +0.10            +0.19%     59360      USD  \n999   +1.17            +1.06%      1710      USD  \n\n[1000 rows x 10 columns]",
      "text/html": "<div>\n<style scoped>\n    .dataframe tbody tr th:only-of-type {\n        vertical-align: middle;\n    }\n\n    .dataframe tbody tr th {\n        vertical-align: top;\n    }\n\n    .dataframe thead th {\n        text-align: right;\n    }\n</style>\n<table border=\"1\" class=\"dataframe\">\n  <thead>\n    <tr style=\"text-align: right;\">\n      <th></th>\n      <th>country</th>\n      <th>name</th>\n      <th>symbol</th>\n      <th>last</th>\n      <th>high</th>\n      <th>low</th>\n      <th>change</th>\n      <th>change_percentage</th>\n      <th>turnover</th>\n      <th>currency</th>\n    </tr>\n  </thead>\n  <tbody>\n    <tr>\n      <th>0</th>\n      <td>united states</td>\n      <td>Boeing</td>\n      <td>BA</td>\n      <td>209.03</td>\n      <td>214.73</td>\n      <td>208.60</td>\n      <td>-4.55</td>\n      <td>-2.13%</td>\n      <td>6920000</td>\n      <td>USD</td>\n    </tr>\n    <tr>\n      <th>1</th>\n      <td>united states</td>\n      <td>General Motors</td>\n      <td>GM</td>\n      <td>48.60</td>\n      <td>49.21</td>\n      <td>47.92</td>\n      <td>-0.22</td>\n      <td>-0.45%</td>\n      <td>16020000</td>\n      <td>USD</td>\n    </tr>\n    <tr>\n      <th>2</th>\n      <td>united states</td>\n      <td>Chevron</td>\n      <td>CVX</td>\n      <td>133.42</td>\n      <td>133.91</td>\n      <td>132.05</td>\n      <td>-0.19</td>\n      <td>-0.14%</td>\n      <td>10590000</td>\n      <td>USD</td>\n    </tr>\n    <tr>\n      <th>3</th>\n      <td>united states</td>\n      <td>Citigroup</td>\n      <td>C</td>\n      <td>64.14</td>\n      <td>64.97</td>\n      <td>63.70</td>\n      <td>-0.57</td>\n      <td>-0.88%</td>\n      <td>17900000</td>\n      <td>USD</td>\n    </tr>\n    <tr>\n      <th>4</th>\n      <td>united states</td>\n      <td>Bank of America</td>\n      <td>BAC</td>\n      <td>45.96</td>\n      <td>46.53</td>\n      <td>45.72</td>\n      <td>-0.11</td>\n      <td>-0.24%</td>\n      <td>37680000</td>\n      <td>USD</td>\n    </tr>\n    <tr>\n      <th>...</th>\n      <td>...</td>\n      <td>...</td>\n      <td>...</td>\n      <td>...</td>\n      <td>...</td>\n      <td>...</td>\n      <td>...</td>\n      <td>...</td>\n      <td>...</td>\n      <td>...</td>\n    </tr>\n    <tr>\n      <th>995</th>\n      <td>united states</td>\n      <td>Fonar</td>\n      <td>FONR</td>\n      <td>17.11</td>\n      <td>17.50</td>\n      <td>17.05</td>\n      <td>-0.32</td>\n      <td>-1.84%</td>\n      <td>46710</td>\n      <td>USD</td>\n    </tr>\n    <tr>\n      <th>996</th>\n      <td>united states</td>\n      <td>Forward Industries</td>\n      <td>FORD</td>\n      <td>1.71</td>\n      <td>1.74</td>\n      <td>1.65</td>\n      <td>+0.010</td>\n      <td>+0.59%</td>\n      <td>27610</td>\n      <td>USD</td>\n    </tr>\n    <tr>\n      <th>997</th>\n      <td>united states</td>\n      <td>FormFactor</td>\n      <td>FORM</td>\n      <td>42.02</td>\n      <td>43.07</td>\n      <td>41.92</td>\n      <td>-0.73</td>\n      <td>-1.71%</td>\n      <td>283590</td>\n      <td>USD</td>\n    </tr>\n    <tr>\n      <th>998</th>\n      <td>united states</td>\n      <td>Forrester</td>\n      <td>FORR</td>\n      <td>52.79</td>\n      <td>53.40</td>\n      <td>52.00</td>\n      <td>+0.10</td>\n      <td>+0.19%</td>\n      <td>59360</td>\n      <td>USD</td>\n    </tr>\n    <tr>\n      <th>999</th>\n      <td>united states</td>\n      <td>Formula Systems ADR</td>\n      <td>FORTY</td>\n      <td>111.25</td>\n      <td>113.49</td>\n      <td>110.21</td>\n      <td>+1.17</td>\n      <td>+1.06%</td>\n      <td>1710</td>\n      <td>USD</td>\n    </tr>\n  </tbody>\n</table>\n<p>1000 rows × 10 columns</p>\n</div>"
     },
     "execution_count": 4,
     "metadata": {},
     "output_type": "execute_result"
    }
   ],
   "source": [
    "investpy.get_stocks_overview(country=\"United States\",\n",
    "                        as_json=False,\n",
    "                        n_results=1000)"
   ],
   "metadata": {
    "collapsed": false,
    "pycharm": {
     "name": "#%%\n"
    }
   }
  },
  {
   "cell_type": "markdown",
   "source": [
    "# get_stock_company_profile"
   ],
   "metadata": {
    "collapsed": false
   }
  },
  {
   "cell_type": "code",
   "execution_count": 5,
   "outputs": [
    {
     "data": {
      "text/plain": "{'url': 'https://www.investing.com/equities/apple-computer-inc-company-profile',\n 'desc': 'Apple Inc. designs, manufactures and markets smartphones, personal computers, tablets, wearables and accessories, and sells a variety of related services. The Company’s products include iPhone, Mac, iPad, and Wearables, Home and Accessories. iPhone is the Company’s line of smartphones based on its iOS operating system. Mac is the Company’s line of personal computers based on its macOS operating system. iPad is the Company’s line of multi-purpose tablets based on its iPadOS operating system. Wearables, Home and Accessories includes AirPods, Apple TV, Apple Watch, Beats products, HomePod, iPod touch and other Apple-branded and third-party accessories. AirPods are the Company’s wireless headphones that interact with Siri. Apple Watch is the Company’s line of smart watches. Its services include Advertising, AppleCare, Cloud Services, Digital Content and Payment Services. Its customers are primarily in the consumer, small and mid-sized business, education, enterprise and government markets.'}"
     },
     "execution_count": 5,
     "metadata": {},
     "output_type": "execute_result"
    }
   ],
   "source": [
    "# select ticker\n",
    "TICKER = \"AAPL\"\n",
    "\n",
    "# get company's profile\n",
    "investpy.get_stock_company_profile(stock=TICKER, country=\"United States\")"
   ],
   "metadata": {
    "collapsed": false,
    "pycharm": {
     "name": "#%%\n"
    }
   }
  },
  {
   "cell_type": "markdown",
   "source": [
    "# get_stock_financial_summary"
   ],
   "metadata": {
    "collapsed": false,
    "pycharm": {
     "name": "#%% md\n"
    }
   }
  },
  {
   "cell_type": "code",
   "execution_count": 6,
   "outputs": [
    {
     "data": {
      "text/plain": "            Total Revenue  Gross Profit  Operating Income  Net Income\nDate                                                                 \n2021-12-25       123945.0       54243.0           41488.0     34630.0\n2021-09-25        83360.0       35174.0           23786.0     20551.0\n2021-06-26        81434.0       35255.0           24126.0     21744.0\n2021-03-27        89584.0       38079.0           27503.0     23630.0",
      "text/html": "<div>\n<style scoped>\n    .dataframe tbody tr th:only-of-type {\n        vertical-align: middle;\n    }\n\n    .dataframe tbody tr th {\n        vertical-align: top;\n    }\n\n    .dataframe thead th {\n        text-align: right;\n    }\n</style>\n<table border=\"1\" class=\"dataframe\">\n  <thead>\n    <tr style=\"text-align: right;\">\n      <th></th>\n      <th>Total Revenue</th>\n      <th>Gross Profit</th>\n      <th>Operating Income</th>\n      <th>Net Income</th>\n    </tr>\n    <tr>\n      <th>Date</th>\n      <th></th>\n      <th></th>\n      <th></th>\n      <th></th>\n    </tr>\n  </thead>\n  <tbody>\n    <tr>\n      <th>2021-12-25</th>\n      <td>123945.0</td>\n      <td>54243.0</td>\n      <td>41488.0</td>\n      <td>34630.0</td>\n    </tr>\n    <tr>\n      <th>2021-09-25</th>\n      <td>83360.0</td>\n      <td>35174.0</td>\n      <td>23786.0</td>\n      <td>20551.0</td>\n    </tr>\n    <tr>\n      <th>2021-06-26</th>\n      <td>81434.0</td>\n      <td>35255.0</td>\n      <td>24126.0</td>\n      <td>21744.0</td>\n    </tr>\n    <tr>\n      <th>2021-03-27</th>\n      <td>89584.0</td>\n      <td>38079.0</td>\n      <td>27503.0</td>\n      <td>23630.0</td>\n    </tr>\n  </tbody>\n</table>\n</div>"
     },
     "execution_count": 6,
     "metadata": {},
     "output_type": "execute_result"
    }
   ],
   "source": [
    "investpy.get_stock_financial_summary(stock=TICKER,\n",
    "                                country=\"United States\",\n",
    "                                summary_type=\"income_statement\",\n",
    "                                period=\"quarterly\")"
   ],
   "metadata": {
    "collapsed": false,
    "pycharm": {
     "name": "#%%\n"
    }
   }
  },
  {
   "cell_type": "markdown",
   "source": [
    "# get_stock_information"
   ],
   "metadata": {
    "collapsed": false
   }
  },
  {
   "cell_type": "code",
   "execution_count": 7,
   "outputs": [
    {
     "data": {
      "text/plain": "                                  0\nStock Symbol                   AAPL\nPrev. Close                  168.88\nTodays Range          166.19-170.54\nRevenue              378320000000.0\nOpen                         169.82\n52 wk Range           116.21-182.94\nEPS                            6.02\nVolume                   81011252.0\nMarket Cap          2730000000000.0\nDividend (Yield)        0.88(0.51%)\nAverage Vol. (3m)        99601488.0\nP/E Ratio                     27.78\nBeta                           1.18\n1-Year Change                28.82%\nShares Outstanding    16319441000.0\nNext Earnings Date       03/05/2022",
      "text/html": "<div>\n<style scoped>\n    .dataframe tbody tr th:only-of-type {\n        vertical-align: middle;\n    }\n\n    .dataframe tbody tr th {\n        vertical-align: top;\n    }\n\n    .dataframe thead th {\n        text-align: right;\n    }\n</style>\n<table border=\"1\" class=\"dataframe\">\n  <thead>\n    <tr style=\"text-align: right;\">\n      <th></th>\n      <th>0</th>\n    </tr>\n  </thead>\n  <tbody>\n    <tr>\n      <th>Stock Symbol</th>\n      <td>AAPL</td>\n    </tr>\n    <tr>\n      <th>Prev. Close</th>\n      <td>168.88</td>\n    </tr>\n    <tr>\n      <th>Todays Range</th>\n      <td>166.19-170.54</td>\n    </tr>\n    <tr>\n      <th>Revenue</th>\n      <td>378320000000.0</td>\n    </tr>\n    <tr>\n      <th>Open</th>\n      <td>169.82</td>\n    </tr>\n    <tr>\n      <th>52 wk Range</th>\n      <td>116.21-182.94</td>\n    </tr>\n    <tr>\n      <th>EPS</th>\n      <td>6.02</td>\n    </tr>\n    <tr>\n      <th>Volume</th>\n      <td>81011252.0</td>\n    </tr>\n    <tr>\n      <th>Market Cap</th>\n      <td>2730000000000.0</td>\n    </tr>\n    <tr>\n      <th>Dividend (Yield)</th>\n      <td>0.88(0.51%)</td>\n    </tr>\n    <tr>\n      <th>Average Vol. (3m)</th>\n      <td>99601488.0</td>\n    </tr>\n    <tr>\n      <th>P/E Ratio</th>\n      <td>27.78</td>\n    </tr>\n    <tr>\n      <th>Beta</th>\n      <td>1.18</td>\n    </tr>\n    <tr>\n      <th>1-Year Change</th>\n      <td>28.82%</td>\n    </tr>\n    <tr>\n      <th>Shares Outstanding</th>\n      <td>16319441000.0</td>\n    </tr>\n    <tr>\n      <th>Next Earnings Date</th>\n      <td>03/05/2022</td>\n    </tr>\n  </tbody>\n</table>\n</div>"
     },
     "execution_count": 7,
     "metadata": {},
     "output_type": "execute_result"
    }
   ],
   "source": [
    "investpy.get_stock_information(stock=TICKER,\n",
    "                          country=\"United States\",\n",
    "                          as_json=False).transpose()"
   ],
   "metadata": {
    "collapsed": false,
    "pycharm": {
     "name": "#%%\n"
    }
   }
  },
  {
   "cell_type": "markdown",
   "source": [
    "# search_quotes"
   ],
   "metadata": {
    "collapsed": false,
    "pycharm": {
     "name": "#%% md\n"
    }
   }
  },
  {
   "cell_type": "code",
   "execution_count": 9,
   "outputs": [
    {
     "name": "stdout",
     "output_type": "stream",
     "text": [
      "{\"id_\": 6408, \"name\": \"Apple Inc\", \"symbol\": \"AAPL\", \"country\": \"united states\", \"tag\": \"/equities/apple-computer-inc\", \"pair_type\": \"stocks\", \"exchange\": \"NASDAQ\"}\n"
     ]
    }
   ],
   "source": [
    "aapl = investpy.search_quotes(text=\"apple\",\n",
    "                         products=[\"stocks\"],\n",
    "                         countries=[\"united states\"],\n",
    "                         n_results=1)\n",
    "print(aapl)"
   ],
   "metadata": {
    "collapsed": false,
    "pycharm": {
     "name": "#%%\n"
    }
   }
  },
  {
   "cell_type": "markdown",
   "source": [
    "# retrieve_historical_data"
   ],
   "metadata": {
    "collapsed": false,
    "pycharm": {
     "name": "#%% md\n"
    }
   }
  },
  {
   "cell_type": "code",
   "execution_count": 10,
   "outputs": [
    {
     "data": {
      "text/plain": "              Open    High     Low   Close     Volume  Change Pct\nDate                                                             \n2020-01-02   74.06   75.15   73.80   75.09  135647008        2.28\n2020-01-03   74.29   75.14   74.13   74.36  146536000       -0.97\n2020-01-06   73.45   74.99   73.19   74.95  118579000        0.80\n2020-01-07   74.96   75.22   74.37   74.60  111511000       -0.47\n2020-01-08   74.29   76.11   74.29   75.80  132364000        1.61\n...            ...     ...     ...     ...        ...         ...\n2020-12-24  131.32  133.46  131.10  131.97   54930000        0.77\n2020-12-28  133.99  137.34  133.51  136.69  124486000        3.58\n2020-12-29  138.05  138.79  134.34  134.87  121047000       -1.33\n2020-12-30  135.58  135.99  133.40  133.72   96452000       -0.85\n2020-12-31  134.08  134.74  131.72  132.69   99117000       -0.77\n\n[253 rows x 6 columns]",
      "text/html": "<div>\n<style scoped>\n    .dataframe tbody tr th:only-of-type {\n        vertical-align: middle;\n    }\n\n    .dataframe tbody tr th {\n        vertical-align: top;\n    }\n\n    .dataframe thead th {\n        text-align: right;\n    }\n</style>\n<table border=\"1\" class=\"dataframe\">\n  <thead>\n    <tr style=\"text-align: right;\">\n      <th></th>\n      <th>Open</th>\n      <th>High</th>\n      <th>Low</th>\n      <th>Close</th>\n      <th>Volume</th>\n      <th>Change Pct</th>\n    </tr>\n    <tr>\n      <th>Date</th>\n      <th></th>\n      <th></th>\n      <th></th>\n      <th></th>\n      <th></th>\n      <th></th>\n    </tr>\n  </thead>\n  <tbody>\n    <tr>\n      <th>2020-01-02</th>\n      <td>74.06</td>\n      <td>75.15</td>\n      <td>73.80</td>\n      <td>75.09</td>\n      <td>135647008</td>\n      <td>2.28</td>\n    </tr>\n    <tr>\n      <th>2020-01-03</th>\n      <td>74.29</td>\n      <td>75.14</td>\n      <td>74.13</td>\n      <td>74.36</td>\n      <td>146536000</td>\n      <td>-0.97</td>\n    </tr>\n    <tr>\n      <th>2020-01-06</th>\n      <td>73.45</td>\n      <td>74.99</td>\n      <td>73.19</td>\n      <td>74.95</td>\n      <td>118579000</td>\n      <td>0.80</td>\n    </tr>\n    <tr>\n      <th>2020-01-07</th>\n      <td>74.96</td>\n      <td>75.22</td>\n      <td>74.37</td>\n      <td>74.60</td>\n      <td>111511000</td>\n      <td>-0.47</td>\n    </tr>\n    <tr>\n      <th>2020-01-08</th>\n      <td>74.29</td>\n      <td>76.11</td>\n      <td>74.29</td>\n      <td>75.80</td>\n      <td>132364000</td>\n      <td>1.61</td>\n    </tr>\n    <tr>\n      <th>...</th>\n      <td>...</td>\n      <td>...</td>\n      <td>...</td>\n      <td>...</td>\n      <td>...</td>\n      <td>...</td>\n    </tr>\n    <tr>\n      <th>2020-12-24</th>\n      <td>131.32</td>\n      <td>133.46</td>\n      <td>131.10</td>\n      <td>131.97</td>\n      <td>54930000</td>\n      <td>0.77</td>\n    </tr>\n    <tr>\n      <th>2020-12-28</th>\n      <td>133.99</td>\n      <td>137.34</td>\n      <td>133.51</td>\n      <td>136.69</td>\n      <td>124486000</td>\n      <td>3.58</td>\n    </tr>\n    <tr>\n      <th>2020-12-29</th>\n      <td>138.05</td>\n      <td>138.79</td>\n      <td>134.34</td>\n      <td>134.87</td>\n      <td>121047000</td>\n      <td>-1.33</td>\n    </tr>\n    <tr>\n      <th>2020-12-30</th>\n      <td>135.58</td>\n      <td>135.99</td>\n      <td>133.40</td>\n      <td>133.72</td>\n      <td>96452000</td>\n      <td>-0.85</td>\n    </tr>\n    <tr>\n      <th>2020-12-31</th>\n      <td>134.08</td>\n      <td>134.74</td>\n      <td>131.72</td>\n      <td>132.69</td>\n      <td>99117000</td>\n      <td>-0.77</td>\n    </tr>\n  </tbody>\n</table>\n<p>253 rows × 6 columns</p>\n</div>"
     },
     "execution_count": 10,
     "metadata": {},
     "output_type": "execute_result"
    }
   ],
   "source": [
    "historical_data = aapl.retrieve_historical_data(from_date=\"01/01/2020\",\n",
    "                                                to_date=\"01/01/2021\")\n",
    "historical_data"
   ],
   "metadata": {
    "collapsed": false,
    "pycharm": {
     "name": "#%%\n"
    }
   }
  },
  {
   "cell_type": "markdown",
   "source": [
    "# retrieve_technical_indicators"
   ],
   "metadata": {
    "collapsed": false
   }
  },
  {
   "cell_type": "code",
   "execution_count": 11,
   "outputs": [
    {
     "name": "stderr",
     "output_type": "stream",
     "text": [
      "c:\\users\\syncrase\\pycharmprojects\\pythonproject\\venv\\lib\\site-packages\\investpy\\utils\\search_obj.py:386: FutureWarning: The frame.append method is deprecated and will be removed from pandas in a future version. Use pandas.concat instead.\n",
      "  self.technical_indicators = self.technical_indicators.append(\n",
      "c:\\users\\syncrase\\pycharmprojects\\pythonproject\\venv\\lib\\site-packages\\investpy\\utils\\search_obj.py:386: FutureWarning: The frame.append method is deprecated and will be removed from pandas in a future version. Use pandas.concat instead.\n",
      "  self.technical_indicators = self.technical_indicators.append(\n",
      "c:\\users\\syncrase\\pycharmprojects\\pythonproject\\venv\\lib\\site-packages\\investpy\\utils\\search_obj.py:386: FutureWarning: The frame.append method is deprecated and will be removed from pandas in a future version. Use pandas.concat instead.\n",
      "  self.technical_indicators = self.technical_indicators.append(\n",
      "c:\\users\\syncrase\\pycharmprojects\\pythonproject\\venv\\lib\\site-packages\\investpy\\utils\\search_obj.py:386: FutureWarning: The frame.append method is deprecated and will be removed from pandas in a future version. Use pandas.concat instead.\n",
      "  self.technical_indicators = self.technical_indicators.append(\n",
      "c:\\users\\syncrase\\pycharmprojects\\pythonproject\\venv\\lib\\site-packages\\investpy\\utils\\search_obj.py:386: FutureWarning: The frame.append method is deprecated and will be removed from pandas in a future version. Use pandas.concat instead.\n",
      "  self.technical_indicators = self.technical_indicators.append(\n",
      "c:\\users\\syncrase\\pycharmprojects\\pythonproject\\venv\\lib\\site-packages\\investpy\\utils\\search_obj.py:386: FutureWarning: The frame.append method is deprecated and will be removed from pandas in a future version. Use pandas.concat instead.\n",
      "  self.technical_indicators = self.technical_indicators.append(\n",
      "c:\\users\\syncrase\\pycharmprojects\\pythonproject\\venv\\lib\\site-packages\\investpy\\utils\\search_obj.py:386: FutureWarning: The frame.append method is deprecated and will be removed from pandas in a future version. Use pandas.concat instead.\n",
      "  self.technical_indicators = self.technical_indicators.append(\n",
      "c:\\users\\syncrase\\pycharmprojects\\pythonproject\\venv\\lib\\site-packages\\investpy\\utils\\search_obj.py:386: FutureWarning: The frame.append method is deprecated and will be removed from pandas in a future version. Use pandas.concat instead.\n",
      "  self.technical_indicators = self.technical_indicators.append(\n",
      "c:\\users\\syncrase\\pycharmprojects\\pythonproject\\venv\\lib\\site-packages\\investpy\\utils\\search_obj.py:386: FutureWarning: The frame.append method is deprecated and will be removed from pandas in a future version. Use pandas.concat instead.\n",
      "  self.technical_indicators = self.technical_indicators.append(\n",
      "c:\\users\\syncrase\\pycharmprojects\\pythonproject\\venv\\lib\\site-packages\\investpy\\utils\\search_obj.py:386: FutureWarning: The frame.append method is deprecated and will be removed from pandas in a future version. Use pandas.concat instead.\n",
      "  self.technical_indicators = self.technical_indicators.append(\n",
      "c:\\users\\syncrase\\pycharmprojects\\pythonproject\\venv\\lib\\site-packages\\investpy\\utils\\search_obj.py:386: FutureWarning: The frame.append method is deprecated and will be removed from pandas in a future version. Use pandas.concat instead.\n",
      "  self.technical_indicators = self.technical_indicators.append(\n",
      "c:\\users\\syncrase\\pycharmprojects\\pythonproject\\venv\\lib\\site-packages\\investpy\\utils\\search_obj.py:386: FutureWarning: The frame.append method is deprecated and will be removed from pandas in a future version. Use pandas.concat instead.\n",
      "  self.technical_indicators = self.technical_indicators.append(\n"
     ]
    },
    {
     "data": {
      "text/plain": "              indicator     value           signal\n0               RSI(14)   44.1170             sell\n1            STOCH(9,6)   34.3080             sell\n2          STOCHRSI(14)    0.0000         oversold\n3           MACD(12,26)   -0.9400             sell\n4               ADX(14)   18.9080          neutral\n5           Williams %R  -92.0420         oversold\n6               CCI(14) -163.8465             sell\n7               ATR(14)    3.5647  less_volatility\n8        Highs/Lows(14)   -3.4400             sell\n9   Ultimate Oscillator   43.0660             sell\n10                  ROC   -4.4230             sell\n11  Bull/Bear Power(13)   -3.5540             sell",
      "text/html": "<div>\n<style scoped>\n    .dataframe tbody tr th:only-of-type {\n        vertical-align: middle;\n    }\n\n    .dataframe tbody tr th {\n        vertical-align: top;\n    }\n\n    .dataframe thead th {\n        text-align: right;\n    }\n</style>\n<table border=\"1\" class=\"dataframe\">\n  <thead>\n    <tr style=\"text-align: right;\">\n      <th></th>\n      <th>indicator</th>\n      <th>value</th>\n      <th>signal</th>\n    </tr>\n  </thead>\n  <tbody>\n    <tr>\n      <th>0</th>\n      <td>RSI(14)</td>\n      <td>44.1170</td>\n      <td>sell</td>\n    </tr>\n    <tr>\n      <th>1</th>\n      <td>STOCH(9,6)</td>\n      <td>34.3080</td>\n      <td>sell</td>\n    </tr>\n    <tr>\n      <th>2</th>\n      <td>STOCHRSI(14)</td>\n      <td>0.0000</td>\n      <td>oversold</td>\n    </tr>\n    <tr>\n      <th>3</th>\n      <td>MACD(12,26)</td>\n      <td>-0.9400</td>\n      <td>sell</td>\n    </tr>\n    <tr>\n      <th>4</th>\n      <td>ADX(14)</td>\n      <td>18.9080</td>\n      <td>neutral</td>\n    </tr>\n    <tr>\n      <th>5</th>\n      <td>Williams %R</td>\n      <td>-92.0420</td>\n      <td>oversold</td>\n    </tr>\n    <tr>\n      <th>6</th>\n      <td>CCI(14)</td>\n      <td>-163.8465</td>\n      <td>sell</td>\n    </tr>\n    <tr>\n      <th>7</th>\n      <td>ATR(14)</td>\n      <td>3.5647</td>\n      <td>less_volatility</td>\n    </tr>\n    <tr>\n      <th>8</th>\n      <td>Highs/Lows(14)</td>\n      <td>-3.4400</td>\n      <td>sell</td>\n    </tr>\n    <tr>\n      <th>9</th>\n      <td>Ultimate Oscillator</td>\n      <td>43.0660</td>\n      <td>sell</td>\n    </tr>\n    <tr>\n      <th>10</th>\n      <td>ROC</td>\n      <td>-4.4230</td>\n      <td>sell</td>\n    </tr>\n    <tr>\n      <th>11</th>\n      <td>Bull/Bear Power(13)</td>\n      <td>-3.5540</td>\n      <td>sell</td>\n    </tr>\n  </tbody>\n</table>\n</div>"
     },
     "execution_count": 11,
     "metadata": {},
     "output_type": "execute_result"
    }
   ],
   "source": [
    "aapl.retrieve_technical_indicators(interval=\"daily\")"
   ],
   "metadata": {
    "collapsed": false,
    "pycharm": {
     "name": "#%%\n"
    }
   }
  },
  {
   "cell_type": "markdown",
   "source": [
    "# get_bond_historical_data"
   ],
   "metadata": {
    "collapsed": false
   }
  },
  {
   "cell_type": "code",
   "execution_count": 12,
   "outputs": [
    {
     "data": {
      "text/plain": "             Open   High    Low  Close\nDate                                  \n2020-01-02 -0.041 -0.031 -0.110 -0.095\n2020-01-03 -0.139 -0.132 -0.172 -0.156\n2020-01-06 -0.168 -0.151 -0.181 -0.155\n2020-01-07 -0.152 -0.141 -0.168 -0.154\n2020-01-08 -0.167 -0.119 -0.170 -0.122\n...           ...    ...    ...    ...\n2020-11-25 -0.477 -0.465 -0.498 -0.484\n2020-11-26 -0.479 -0.472 -0.506 -0.501\n2020-11-27 -0.500 -0.491 -0.511 -0.502\n2020-11-30 -0.501 -0.480 -0.516 -0.482\n2020-12-01 -0.492 -0.434 -0.498 -0.438\n\n[248 rows x 4 columns]",
      "text/html": "<div>\n<style scoped>\n    .dataframe tbody tr th:only-of-type {\n        vertical-align: middle;\n    }\n\n    .dataframe tbody tr th {\n        vertical-align: top;\n    }\n\n    .dataframe thead th {\n        text-align: right;\n    }\n</style>\n<table border=\"1\" class=\"dataframe\">\n  <thead>\n    <tr style=\"text-align: right;\">\n      <th></th>\n      <th>Open</th>\n      <th>High</th>\n      <th>Low</th>\n      <th>Close</th>\n    </tr>\n    <tr>\n      <th>Date</th>\n      <th></th>\n      <th></th>\n      <th></th>\n      <th></th>\n    </tr>\n  </thead>\n  <tbody>\n    <tr>\n      <th>2020-01-02</th>\n      <td>-0.041</td>\n      <td>-0.031</td>\n      <td>-0.110</td>\n      <td>-0.095</td>\n    </tr>\n    <tr>\n      <th>2020-01-03</th>\n      <td>-0.139</td>\n      <td>-0.132</td>\n      <td>-0.172</td>\n      <td>-0.156</td>\n    </tr>\n    <tr>\n      <th>2020-01-06</th>\n      <td>-0.168</td>\n      <td>-0.151</td>\n      <td>-0.181</td>\n      <td>-0.155</td>\n    </tr>\n    <tr>\n      <th>2020-01-07</th>\n      <td>-0.152</td>\n      <td>-0.141</td>\n      <td>-0.168</td>\n      <td>-0.154</td>\n    </tr>\n    <tr>\n      <th>2020-01-08</th>\n      <td>-0.167</td>\n      <td>-0.119</td>\n      <td>-0.170</td>\n      <td>-0.122</td>\n    </tr>\n    <tr>\n      <th>...</th>\n      <td>...</td>\n      <td>...</td>\n      <td>...</td>\n      <td>...</td>\n    </tr>\n    <tr>\n      <th>2020-11-25</th>\n      <td>-0.477</td>\n      <td>-0.465</td>\n      <td>-0.498</td>\n      <td>-0.484</td>\n    </tr>\n    <tr>\n      <th>2020-11-26</th>\n      <td>-0.479</td>\n      <td>-0.472</td>\n      <td>-0.506</td>\n      <td>-0.501</td>\n    </tr>\n    <tr>\n      <th>2020-11-27</th>\n      <td>-0.500</td>\n      <td>-0.491</td>\n      <td>-0.511</td>\n      <td>-0.502</td>\n    </tr>\n    <tr>\n      <th>2020-11-30</th>\n      <td>-0.501</td>\n      <td>-0.480</td>\n      <td>-0.516</td>\n      <td>-0.482</td>\n    </tr>\n    <tr>\n      <th>2020-12-01</th>\n      <td>-0.492</td>\n      <td>-0.434</td>\n      <td>-0.498</td>\n      <td>-0.438</td>\n    </tr>\n  </tbody>\n</table>\n<p>248 rows × 4 columns</p>\n</div>"
     },
     "execution_count": 12,
     "metadata": {},
     "output_type": "execute_result"
    }
   ],
   "source": [
    "investpy.get_bond_historical_data(bond=\"Netherlands 10Y\",\n",
    "                             from_date=\"01/01/2020\",\n",
    "                             to_date=\"01/12/2020\")"
   ],
   "metadata": {
    "collapsed": false,
    "pycharm": {
     "name": "#%%\n"
    }
   }
  },
  {
   "cell_type": "markdown",
   "source": [
    "# economic_calendar"
   ],
   "metadata": {
    "collapsed": false
   }
  },
  {
   "cell_type": "code",
   "execution_count": 13,
   "outputs": [
    {
     "data": {
      "text/plain": "       id        date   time         zone currency importance  \\\n0  445337  20/02/2022  22:45  new zealand      NZD        low   \n1  445336  20/02/2022  22:45  new zealand      NZD        low   \n2  445335  20/02/2022  22:45  new zealand      NZD     medium   \n3  445334  20/02/2022  22:45  new zealand      NZD     medium   \n4  446316  20/02/2022  23:00    australia      AUD        low   \n5  446317  20/02/2022  23:00    australia      AUD        low   \n\n                        event actual forecast previous  \n0              Exports  (Jan)   None     None    6.07B  \n1              Imports  (Jan)   None     None    6.55B  \n2  Trade Balance (YoY)  (Jan)   None     None  -6,780M  \n3  Trade Balance (MoM)  (Jan)   None     None    -477M  \n4           Manufacturing PMI   None     None     55.3  \n5                Services PMI   None     None     46.6  ",
      "text/html": "<div>\n<style scoped>\n    .dataframe tbody tr th:only-of-type {\n        vertical-align: middle;\n    }\n\n    .dataframe tbody tr th {\n        vertical-align: top;\n    }\n\n    .dataframe thead th {\n        text-align: right;\n    }\n</style>\n<table border=\"1\" class=\"dataframe\">\n  <thead>\n    <tr style=\"text-align: right;\">\n      <th></th>\n      <th>id</th>\n      <th>date</th>\n      <th>time</th>\n      <th>zone</th>\n      <th>currency</th>\n      <th>importance</th>\n      <th>event</th>\n      <th>actual</th>\n      <th>forecast</th>\n      <th>previous</th>\n    </tr>\n  </thead>\n  <tbody>\n    <tr>\n      <th>0</th>\n      <td>445337</td>\n      <td>20/02/2022</td>\n      <td>22:45</td>\n      <td>new zealand</td>\n      <td>NZD</td>\n      <td>low</td>\n      <td>Exports  (Jan)</td>\n      <td>None</td>\n      <td>None</td>\n      <td>6.07B</td>\n    </tr>\n    <tr>\n      <th>1</th>\n      <td>445336</td>\n      <td>20/02/2022</td>\n      <td>22:45</td>\n      <td>new zealand</td>\n      <td>NZD</td>\n      <td>low</td>\n      <td>Imports  (Jan)</td>\n      <td>None</td>\n      <td>None</td>\n      <td>6.55B</td>\n    </tr>\n    <tr>\n      <th>2</th>\n      <td>445335</td>\n      <td>20/02/2022</td>\n      <td>22:45</td>\n      <td>new zealand</td>\n      <td>NZD</td>\n      <td>medium</td>\n      <td>Trade Balance (YoY)  (Jan)</td>\n      <td>None</td>\n      <td>None</td>\n      <td>-6,780M</td>\n    </tr>\n    <tr>\n      <th>3</th>\n      <td>445334</td>\n      <td>20/02/2022</td>\n      <td>22:45</td>\n      <td>new zealand</td>\n      <td>NZD</td>\n      <td>medium</td>\n      <td>Trade Balance (MoM)  (Jan)</td>\n      <td>None</td>\n      <td>None</td>\n      <td>-477M</td>\n    </tr>\n    <tr>\n      <th>4</th>\n      <td>446316</td>\n      <td>20/02/2022</td>\n      <td>23:00</td>\n      <td>australia</td>\n      <td>AUD</td>\n      <td>low</td>\n      <td>Manufacturing PMI</td>\n      <td>None</td>\n      <td>None</td>\n      <td>55.3</td>\n    </tr>\n    <tr>\n      <th>5</th>\n      <td>446317</td>\n      <td>20/02/2022</td>\n      <td>23:00</td>\n      <td>australia</td>\n      <td>AUD</td>\n      <td>low</td>\n      <td>Services PMI</td>\n      <td>None</td>\n      <td>None</td>\n      <td>46.6</td>\n    </tr>\n  </tbody>\n</table>\n</div>"
     },
     "execution_count": 13,
     "metadata": {},
     "output_type": "execute_result"
    }
   ],
   "source": [
    "investpy.economic_calendar()"
   ],
   "metadata": {
    "collapsed": false,
    "pycharm": {
     "name": "#%%\n"
    }
   }
  },
  {
   "cell_type": "code",
   "execution_count": 14,
   "outputs": [
    {
     "data": {
      "text/plain": "          id        date   time            zone currency importance  \\\n121   398314  02/01/2020  02:45           china      CNY       high   \n142   398331  02/01/2020  09:55         germany      EUR       high   \n145   398336  02/01/2020  10:30  united kingdom      GBP       high   \n155   399117  02/01/2020  14:30   united states      USD       high   \n191   398422  03/01/2020  09:55         germany      EUR       high   \n...      ...         ...    ...             ...      ...        ...   \n2643  399712  30/01/2020  14:30   united states      USD       high   \n2646  400699  30/01/2020  14:30   united states      USD       high   \n2679  399818  31/01/2020  02:00           china      CNY       high   \n2739  399854  31/01/2020  11:00       euro zone      EUR       high   \n2949  399886  31/01/2020  14:30          canada      CAD       high   \n\n                                  event actual forecast previous  \n121     Caixin Manufacturing PMI  (Dec)   51.5     51.8     51.8  \n142     German Manufacturing PMI  (Dec)   43.7     43.4     43.4  \n145            Manufacturing PMI  (Dec)   47.5     47.6     48.9  \n155              Initial Jobless Claims   222K     225K     224K  \n191   German Unemployment Change  (Dec)     8K       2K     -16K  \n...                                 ...    ...      ...      ...  \n2643                    GDP (QoQ)  (Q4)   2.1%     2.1%     2.1%  \n2646             Initial Jobless Claims   216K     215K     223K  \n2679           Manufacturing PMI  (Jan)   50.0     50.0     50.2  \n2739                   CPI (YoY)  (Jan)   1.4%     1.4%     1.3%  \n2949                   GDP (MoM)  (Nov)   0.1%     0.1%    -0.1%  \n\n[97 rows x 10 columns]",
      "text/html": "<div>\n<style scoped>\n    .dataframe tbody tr th:only-of-type {\n        vertical-align: middle;\n    }\n\n    .dataframe tbody tr th {\n        vertical-align: top;\n    }\n\n    .dataframe thead th {\n        text-align: right;\n    }\n</style>\n<table border=\"1\" class=\"dataframe\">\n  <thead>\n    <tr style=\"text-align: right;\">\n      <th></th>\n      <th>id</th>\n      <th>date</th>\n      <th>time</th>\n      <th>zone</th>\n      <th>currency</th>\n      <th>importance</th>\n      <th>event</th>\n      <th>actual</th>\n      <th>forecast</th>\n      <th>previous</th>\n    </tr>\n  </thead>\n  <tbody>\n    <tr>\n      <th>121</th>\n      <td>398314</td>\n      <td>02/01/2020</td>\n      <td>02:45</td>\n      <td>china</td>\n      <td>CNY</td>\n      <td>high</td>\n      <td>Caixin Manufacturing PMI  (Dec)</td>\n      <td>51.5</td>\n      <td>51.8</td>\n      <td>51.8</td>\n    </tr>\n    <tr>\n      <th>142</th>\n      <td>398331</td>\n      <td>02/01/2020</td>\n      <td>09:55</td>\n      <td>germany</td>\n      <td>EUR</td>\n      <td>high</td>\n      <td>German Manufacturing PMI  (Dec)</td>\n      <td>43.7</td>\n      <td>43.4</td>\n      <td>43.4</td>\n    </tr>\n    <tr>\n      <th>145</th>\n      <td>398336</td>\n      <td>02/01/2020</td>\n      <td>10:30</td>\n      <td>united kingdom</td>\n      <td>GBP</td>\n      <td>high</td>\n      <td>Manufacturing PMI  (Dec)</td>\n      <td>47.5</td>\n      <td>47.6</td>\n      <td>48.9</td>\n    </tr>\n    <tr>\n      <th>155</th>\n      <td>399117</td>\n      <td>02/01/2020</td>\n      <td>14:30</td>\n      <td>united states</td>\n      <td>USD</td>\n      <td>high</td>\n      <td>Initial Jobless Claims</td>\n      <td>222K</td>\n      <td>225K</td>\n      <td>224K</td>\n    </tr>\n    <tr>\n      <th>191</th>\n      <td>398422</td>\n      <td>03/01/2020</td>\n      <td>09:55</td>\n      <td>germany</td>\n      <td>EUR</td>\n      <td>high</td>\n      <td>German Unemployment Change  (Dec)</td>\n      <td>8K</td>\n      <td>2K</td>\n      <td>-16K</td>\n    </tr>\n    <tr>\n      <th>...</th>\n      <td>...</td>\n      <td>...</td>\n      <td>...</td>\n      <td>...</td>\n      <td>...</td>\n      <td>...</td>\n      <td>...</td>\n      <td>...</td>\n      <td>...</td>\n      <td>...</td>\n    </tr>\n    <tr>\n      <th>2643</th>\n      <td>399712</td>\n      <td>30/01/2020</td>\n      <td>14:30</td>\n      <td>united states</td>\n      <td>USD</td>\n      <td>high</td>\n      <td>GDP (QoQ)  (Q4)</td>\n      <td>2.1%</td>\n      <td>2.1%</td>\n      <td>2.1%</td>\n    </tr>\n    <tr>\n      <th>2646</th>\n      <td>400699</td>\n      <td>30/01/2020</td>\n      <td>14:30</td>\n      <td>united states</td>\n      <td>USD</td>\n      <td>high</td>\n      <td>Initial Jobless Claims</td>\n      <td>216K</td>\n      <td>215K</td>\n      <td>223K</td>\n    </tr>\n    <tr>\n      <th>2679</th>\n      <td>399818</td>\n      <td>31/01/2020</td>\n      <td>02:00</td>\n      <td>china</td>\n      <td>CNY</td>\n      <td>high</td>\n      <td>Manufacturing PMI  (Jan)</td>\n      <td>50.0</td>\n      <td>50.0</td>\n      <td>50.2</td>\n    </tr>\n    <tr>\n      <th>2739</th>\n      <td>399854</td>\n      <td>31/01/2020</td>\n      <td>11:00</td>\n      <td>euro zone</td>\n      <td>EUR</td>\n      <td>high</td>\n      <td>CPI (YoY)  (Jan)</td>\n      <td>1.4%</td>\n      <td>1.4%</td>\n      <td>1.3%</td>\n    </tr>\n    <tr>\n      <th>2949</th>\n      <td>399886</td>\n      <td>31/01/2020</td>\n      <td>14:30</td>\n      <td>canada</td>\n      <td>CAD</td>\n      <td>high</td>\n      <td>GDP (MoM)  (Nov)</td>\n      <td>0.1%</td>\n      <td>0.1%</td>\n      <td>-0.1%</td>\n    </tr>\n  </tbody>\n</table>\n<p>97 rows × 10 columns</p>\n</div>"
     },
     "execution_count": 14,
     "metadata": {},
     "output_type": "execute_result"
    }
   ],
   "source": [
    "calendar_2020 = investpy.economic_calendar(from_date=\"01/01/2020\",\n",
    "                                      to_date=\"31/01/2020\")\n",
    "calendar_2020.query(\"importance == 'high'\")"
   ],
   "metadata": {
    "collapsed": false,
    "pycharm": {
     "name": "#%%\n"
    }
   }
  },
  {
   "cell_type": "code",
   "execution_count": null,
   "outputs": [],
   "source": [],
   "metadata": {
    "collapsed": false,
    "pycharm": {
     "name": "#%%\n"
    }
   }
  }
 ],
 "metadata": {
  "kernelspec": {
   "display_name": "Python 3",
   "language": "python",
   "name": "python3"
  },
  "language_info": {
   "codemirror_mode": {
    "name": "ipython",
    "version": 2
   },
   "file_extension": ".py",
   "mimetype": "text/x-python",
   "name": "python",
   "nbconvert_exporter": "python",
   "pygments_lexer": "ipython2",
   "version": "2.7.6"
  }
 },
 "nbformat": 4,
 "nbformat_minor": 0
}